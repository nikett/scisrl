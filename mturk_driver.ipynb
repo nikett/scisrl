{
 "cells": [
  {
   "cell_type": "markdown",
   "metadata": {},
   "source": [
    "## Table of Contents\n",
    "* [Setup](#Setup)\n",
    "\t* [estimate cost](#estimate-cost)\n",
    "\t* [load dataset](#load-dataset)\n",
    "* [Submitting HITs](#Submitting-HITs)\n",
    "* [Retrieve results](#Retrieve-results)\n",
    "* [Interact with workers](#Interact-with-workers)\n",
    "* [Accepting and deleting HITs... careful with these](#Accepting-and-deleting-HITs...-careful-with-these)\n"
   ]
  },
  {
   "cell_type": "code",
   "execution_count": 45,
   "metadata": {
    "collapsed": false
   },
   "outputs": [],
   "source": [
    "sandbox = False\n",
    "\n",
    "# sent_file = \"/Users/nikett/quick/sciencesrl-annotation-afresh/inputs/batch-8ksubsetof15k-highconf.tsv\"\n",
    "# sent_file = \"/Users/nikett/quick/sciencesrl-annotation-afresh/inputs/gold_testset_input.tsv\"\n",
    "# sent_file = \"/Users/nikett/quick/sciencesrl-annotation-afresh/inputs/sample_input.tsv\"\n",
    "# sent_file = \"/Users/nikett/quick/sciencesrl-annotation-afresh/inputs/v5_3.onlyagreedverbs.tsv\"\n",
    "sent_file = \"/Users/nikett/quick/sciencesrl-annotation-afresh/inputs/v5_3.onlyagreedverbs__round3.tsv\"\n",
    "\n",
    "num_sentences = 1  # -1 indicates take all sentences, anynumber >0 indicates restriction\n",
    "outfile='/Users/nikett/quick/sciencesrl-annotation-afresh/results/batch_v5_3__round3.pkl' if not sandbox else '/Users/nikett/quick/sciencesrl-annotation-afresh/results/sandbox_v2_sample.pkl'\n",
    "\n",
    "# CAREFUL HERE\n",
    "# outfile = '/Users/nikett/quick/science68k/predicate_id/results/batch_v4_big2_and_v3_finalversion.pkl'\n",
    "\n",
    "static_params = {\n",
    "    'title': \"Answer simple questions about actions in the sentence.\",\n",
    "    'description': \"Answer simple questions about actions in the sentence.\",\n",
    "    'keywords': ['English verbs'],\n",
    "    'frame_height': 1000,\n",
    "    'amount': 0.10,  # CAREFUL HERE\n",
    "    'duration': 3600 * 1,\n",
    "    'lifetime': 3600 * 24 * 2,\n",
    "    'max_assignments': 1 if sandbox else 3,\n",
    "    'locales': ['US', 'CA', 'AU', 'NZ', 'GB']\n",
    "}"
   ]
  },
  {
   "cell_type": "code",
   "execution_count": 46,
   "metadata": {
    "collapsed": false,
    "run_control": {
     "frozen": false,
     "read_only": false
    }
   },
   "outputs": [],
   "source": [
    "import numpy as np\n",
    "import pandas as pd\n",
    "import re\n",
    "import pickle\n",
    "import boto\n",
    "import json\n",
    "import os\n",
    "import random\n",
    "from copy import deepcopy\n",
    "from tqdm import tqdm\n",
    "\n",
    "from IPython.core.display import HTML\n",
    "from mturk_utils.annotation_collection import prepare_hit\n",
    "from mturk_utils.annotation_collection import write_task_page\n",
    "from mturk_utils.mturk import expected_cost\n",
    "import mturk_ai2\n",
    "from mturk_utils.mturk import MTurk\n",
    "\n",
    "# boto.set_stream_logger('boto')"
   ]
  },
  {
   "cell_type": "markdown",
   "metadata": {
    "run_control": {
     "frozen": false,
     "read_only": false
    }
   },
   "source": [
    "# Submitting HITs"
   ]
  },
  {
   "cell_type": "code",
   "execution_count": 52,
   "metadata": {
    "code_folding": [],
    "collapsed": false,
    "run_control": {
     "frozen": false,
     "read_only": false
    },
    "scrolled": true
   },
   "outputs": [
    {
     "data": {
      "text/plain": [
       "$382.55"
      ]
     },
     "execution_count": 52,
     "metadata": {},
     "output_type": "execute_result"
    }
   ],
   "source": [
    "turk_account = mturk_ai2\n",
    "rw_host='mechanicalturk.amazonaws.com'\n",
    "amt_con = MTurk(turk_account.access_key, turk_account.access_secret_key) if sandbox else MTurk(turk_account.access_key, turk_account.access_secret_key, host=rw_host)\n",
    "amt_con.get_account_balance()"
   ]
  },
  {
   "cell_type": "code",
   "execution_count": 38,
   "metadata": {
    "code_folding": [],
    "collapsed": false,
    "run_control": {
     "frozen": false,
     "read_only": false
    },
    "scrolled": true
   },
   "outputs": [
    {
     "name": "stdout",
     "output_type": "stream",
     "text": [
      "First few inputs of 1744 sentences ...\n"
     ]
    },
    {
     "data": {
      "text/html": [
       "<div>\n",
       "<style>\n",
       "    .dataframe thead tr:only-child th {\n",
       "        text-align: right;\n",
       "    }\n",
       "\n",
       "    .dataframe thead th {\n",
       "        text-align: left;\n",
       "    }\n",
       "\n",
       "    .dataframe tbody tr th {\n",
       "        vertical-align: top;\n",
       "    }\n",
       "</style>\n",
       "<table border=\"1\" class=\"dataframe\">\n",
       "  <thead>\n",
       "    <tr style=\"text-align: right;\">\n",
       "      <th></th>\n",
       "      <th>sentid</th>\n",
       "      <th>sent</th>\n",
       "      <th>verbids</th>\n",
       "    </tr>\n",
       "  </thead>\n",
       "  <tbody>\n",
       "    <tr>\n",
       "      <th>0</th>\n",
       "      <td>52658</td>\n",
       "      <td>The consumer advocacy magazine found that the ...</td>\n",
       "      <td>4-5,9-10,14-15,19-20</td>\n",
       "    </tr>\n",
       "    <tr>\n",
       "      <th>1</th>\n",
       "      <td>56693</td>\n",
       "      <td>If an eclipse happens during this situation , ...</td>\n",
       "      <td>3-4,10-12,20-21,27-28</td>\n",
       "    </tr>\n",
       "    <tr>\n",
       "      <th>2</th>\n",
       "      <td>52799</td>\n",
       "      <td>Cooling or compressing a vapor causes it to sh...</td>\n",
       "      <td>0-1,2-3,8-9,23-24</td>\n",
       "    </tr>\n",
       "    <tr>\n",
       "      <th>3</th>\n",
       "      <td>47795</td>\n",
       "      <td>The amount of water that evaporates from the l...</td>\n",
       "      <td>5-6,16-17</td>\n",
       "    </tr>\n",
       "    <tr>\n",
       "      <th>4</th>\n",
       "      <td>45153</td>\n",
       "      <td>When the ice has melted into water , you can a...</td>\n",
       "      <td>4-5,10-11,17-18,19-20</td>\n",
       "    </tr>\n",
       "  </tbody>\n",
       "</table>\n",
       "</div>"
      ],
      "text/plain": [
       "   sentid                                               sent  \\\n",
       "0   52658  The consumer advocacy magazine found that the ...   \n",
       "1   56693  If an eclipse happens during this situation , ...   \n",
       "2   52799  Cooling or compressing a vapor causes it to sh...   \n",
       "3   47795  The amount of water that evaporates from the l...   \n",
       "4   45153  When the ice has melted into water , you can a...   \n",
       "\n",
       "                 verbids  \n",
       "0   4-5,9-10,14-15,19-20  \n",
       "1  3-4,10-12,20-21,27-28  \n",
       "2      0-1,2-3,8-9,23-24  \n",
       "3              5-6,16-17  \n",
       "4  4-5,10-11,17-18,19-20  "
      ]
     },
     "execution_count": 38,
     "metadata": {},
     "output_type": "execute_result"
    }
   ],
   "source": [
    "df = pd.read_csv(sent_file, sep='\\t', header=0)\n",
    "print \"First few inputs of\", len(df) ,\"sentences ...\"\n",
    "df.head(5)"
   ]
  },
  {
   "cell_type": "code",
   "execution_count": 39,
   "metadata": {
    "collapsed": false,
    "run_control": {
     "frozen": false,
     "read_only": false
    },
    "scrolled": true
   },
   "outputs": [
    {
     "name": "stdout",
     "output_type": "stream",
     "text": [
      "Debug: #hits with empties =  1744\n",
      "Debug: #hits without empties =  1744\n"
     ]
    },
    {
     "data": {
      "text/plain": [
       "523.2"
      ]
     },
     "execution_count": 39,
     "metadata": {},
     "output_type": "execute_result"
    }
   ],
   "source": [
    "def removeNonAscii(s): return \"\".join(i for i in s if ord(i)<128)\n",
    "\n",
    "build_hit_group_with_empties = [prepare_hit(row.sentid, removeNonAscii(str.strip(row.sent)), row.verbids, static_params) for index, row in (df.head(num_sentences).iterrows() if num_sentences > 0 else df.iterrows())]\n",
    "print \"Debug: #hits with empties = \", len(build_hit_group_with_empties)\n",
    "build_hit_group = [x for x in build_hit_group_with_empties if x is not None]\n",
    "print \"Debug: #hits without empties = \", len(build_hit_group)\n",
    "write_task_page(random.choice(build_hit_group)['html'])\n",
    "expected_cost(build_hit_group, static_params, amt_con)"
   ]
  },
  {
   "cell_type": "code",
   "execution_count": 40,
   "metadata": {
    "collapsed": false,
    "run_control": {
     "frozen": false,
     "read_only": false
    }
   },
   "outputs": [
    {
     "name": "stderr",
     "output_type": "stream",
     "text": [
      "100%|██████████| 1744/1744 [06:14<00:00,  5.04it/s]\n"
     ]
    }
   ],
   "source": [
    "hit_group = [amt_con.create_html_hit(single_hit) for single_hit in tqdm(build_hit_group)]"
   ]
  },
  {
   "cell_type": "markdown",
   "metadata": {
    "heading_collapsed": true
   },
   "source": [
    "# Retrieve results"
   ]
  },
  {
   "cell_type": "code",
   "execution_count": null,
   "metadata": {
    "collapsed": false,
    "hidden": true,
    "run_control": {
     "frozen": false,
     "read_only": false
    }
   },
   "outputs": [],
   "source": [
    "#from mturk_utils.annotation_collection import create_result\n",
    "from mturk_utils.annotation_collection import get_assignments\n",
    "from mturk_utils.annotation_collection import pickle_this\n",
    "from mturk_utils.annotation_collection import filter_hits_by_date\n",
    "\n",
    "# number 16000-17000 onwards starts the actual  hits for scisrl part2, before that predid, after 16K \n",
    "# Note: 6901 hits until page 499 (i.e. pages 164,250 with page_size=100)\n",
    "# 16400 onwards sciscrl version2 \n",
    "barebone_hits = []\n",
    "for page_num in range(164,3000):\n",
    "    print \"fetching page \", page_num, \" ...\"\n",
    "    barebone_hits += [hit for hit in amt_con.connection.get_reviewable_hits(page_size=100, page_number=page_num)]\n",
    "print \"Now fetching detailed HITs for \", len(barebone_hits), \"...\"\n",
    "detailed_hits = [amt_con.connection.get_hit(hit.HITId, response_groups=('Minimal','HITDetail'))[0]\n",
    "                             for hit in tqdm(barebone_hits)]\n",
    "\n",
    "# for hit in detailed_hits: print hit.HITId, hit.Title\n",
    "# See: http://boto3.readthedocs.io/en/latest/reference/services/mturk.html?highlight=gethit\n",
    "# for all fields such as Title and creation time.\n",
    "\n",
    "#FIXME How to find hits that are not yet approved or rejected? That is, have not been worked upon by anyone.\n",
    "\n",
    "# predid: Mark actions in a sentence.\n",
    "# scisrl v2 (8k) of updated big task: Answer simple questions about actions in a sentence. (\"the actions\" -> \"actions\")\n",
    "# the above was before page 165 (size 100 per page.)\n",
    "# scisrl v1 (300) of updated big task: Answer simple questions about the actions in a sentence.\n",
    "# scisrl v1 (8k-v5_3--round1) of updated big task: Answer simple questions about the actions in a sentence.\n",
    "# scisrl v1 (8k-v5_3--round2) of updated big task: Answer simple questions about the actions in a sentence\n",
    "# scisrl v1 (8k-v5_3--round3) of updated big task: Answer simple questions about actions in the sentence.\n",
    "hits_to_serialize = [hit for hit in detailed_hits if str(hit.Title)=='Answer simple questions about actions in the sentence.']\n",
    "\n",
    "print \"Number of Hits to serialize = \", len(hits_to_serialize), \"\\nNow fetching assignments...\"\n",
    "\n",
    "# FIXME uncomment this.\n",
    "# all_hits = amt_con.get_all_hits()\n",
    "# start_date = (2018, 1, 5)  # This date is UTC time it seems.\n",
    "# end_date = (2018, 1, 7)\n",
    "# recent_hits = filter_hits_by_date(all_hits, start_date, end_date)\n",
    "\n",
    "# You can change from all_hits to recent_hits below. \n",
    "all_assignments = get_assignments(amt_con.connection, hits_to_serialize)\n",
    "print \"Number of assignments to serialize = \", len(all_assignments)\n",
    "pickle_this(all_assignments, outfile)"
   ]
  },
  {
   "cell_type": "code",
   "execution_count": null,
   "metadata": {
    "collapsed": false,
    "hidden": true,
    "run_control": {
     "frozen": false,
     "read_only": false
    }
   },
   "outputs": [],
   "source": [
    "# This version is for the sandbox (fetches all hits.)\n",
    "# all_hits = amt_con.get_reviewable_hits(detailed=False)\n",
    "# This is for the aristodatasets account\n",
    "\n",
    "from mturk_utils.annotation_collection import get_assignments\n",
    "from mturk_utils.annotation_collection import pickle_this\n",
    "from mturk_utils.annotation_collection import filter_hits_by_date\n",
    "\n",
    "barebone_hits = []\n",
    "for page_num in range(1,750): # on aristodatasets account range before v5_2_round2 was: (1,350)\n",
    "    print \"fetching page \", page_num, \" ...\"\n",
    "    barebone_hits += [hit for hit in amt_con.connection.get_reviewable_hits(page_size=100, page_number=page_num)]\n",
    "print \"Now fetching detailed HITs for \", len(barebone_hits), \"...\"\n",
    "detailed_hits = [amt_con.connection.get_hit(hit.HITId, response_groups=('Minimal','HITDetail'))[0]\n",
    "                             for hit in tqdm(barebone_hits)]\n",
    "\n",
    "# title in v5_1 => Answer simple questions about actions in a sentence\n",
    "hits_to_serialize = [hit for hit in detailed_hits if str(hit.Title)=='Answer simple questions about actions in a sentence']\n",
    "print \"Number of Hits to serialize = \", len(hits_to_serialize), \"\\nNow fetching assignments...\"\n",
    "\n",
    "all_assignments = get_assignments(amt_con.connection, hits_to_serialize)\n",
    "print \"Number of assignments to serialize = \", len(all_assignments)\n",
    "pickle_this(all_assignments, outfile)"
   ]
  },
  {
   "cell_type": "code",
   "execution_count": 29,
   "metadata": {
    "collapsed": false,
    "hidden": true,
    "run_control": {
     "frozen": false,
     "read_only": false
    }
   },
   "outputs": [
    {
     "name": "stderr",
     "output_type": "stream",
     "text": [
      "100%|██████████| 2/2 [00:00<00:00,  1.61it/s]"
     ]
    },
    {
     "name": "stdout",
     "output_type": "stream",
     "text": [
      "Number of assignments to serialize =  2\n"
     ]
    },
    {
     "name": "stderr",
     "output_type": "stream",
     "text": [
      "\n"
     ]
    }
   ],
   "source": [
    "from mturk_utils.annotation_collection import get_assignments\n",
    "from mturk_utils.annotation_collection import pickle_this\n",
    "\n",
    "all_hits = amt_con.get_all_hits()\n",
    "# start_date = (2018, 1, 7)\n",
    "# end_date = (2018, 1, 9)\n",
    "# recent_hits = filter_hits_by_date(all_hits, start_date, end_date)\n",
    "recent_assignments = get_assignments(amt_con.connection, all_hits)\n",
    "print \"Number of assignments to serialize = \", len(recent_assignments)\n",
    "pickle_this(recent_assignments, outfile)"
   ]
  },
  {
   "cell_type": "code",
   "execution_count": null,
   "metadata": {
    "collapsed": false,
    "hidden": true,
    "run_control": {
     "frozen": false,
     "read_only": false
    }
   },
   "outputs": [],
   "source": [
    "#%%time\n",
    "# new_4b_assignemnts_10_26 = get_assignments(amt_con.connection, new_4b_hits)"
   ]
  },
  {
   "cell_type": "code",
   "execution_count": null,
   "metadata": {
    "collapsed": true,
    "hidden": true,
    "run_control": {
     "frozen": false,
     "read_only": false
    }
   },
   "outputs": [],
   "source": [
    "# pickle_this(new_4b_assignemnts_10_26, 'new_4b_assignemnts_10_26.pkl')"
   ]
  },
  {
   "cell_type": "markdown",
   "metadata": {
    "heading_collapsed": true
   },
   "source": [
    "# Interact with workers"
   ]
  },
  {
   "cell_type": "markdown",
   "metadata": {
    "heading_collapsed": true,
    "hidden": true
   },
   "source": [
    "## reject assignments and ban workers"
   ]
  },
  {
   "cell_type": "code",
   "execution_count": null,
   "metadata": {
    "collapsed": false,
    "hidden": true,
    "run_control": {
     "frozen": false,
     "read_only": false
    }
   },
   "outputs": [],
   "source": [
    "# Note: to find bad workers:\n",
    "# grep \"                                                                               \" /Users/nikett/quick/sciencesrl-annotation-afresh/results/batch_v2_8k_partial_v2.tsv | cut -f3| less | sort | uniq -c | sort -rn -k1 | less\n",
    "# find if the workers are really bad: grep A25UOFK73TIWCT /Users/nikett/quick/sciencesrl-annotation-afresh/results/batch_v2_8k_partial_v2.tsv | cut -f8 | grep -v \"^$\"| wc -l\n",
    "# get good assignment ids:\n",
    "# grep -v APTOOB8S2PLJ4 /Users/nikett/quick/sciencesrl-annotation-afresh/results/batch_v2_8k_partial_v2.tsv | cut -f1| tail -n +2 | sort -u > ~/quick/sciencesrl-annotation-afresh/turker-intermediate/assignments_to_accept_8k_batchv2.txt\n",
    "# nikett:propbank_original_reformatted nikett$ cut -f3,8,9 /Users/nikett/quick/sciencesrl-annotation-afresh/results/batch_v5_3.tsv| grep -v \"#\" | sort | uniq -c | sed 's/^ *//g'| grep -v \"^[0-9] \" | sort -rn -k1 | head -5\n",
    "# v5_3 scisrl\n",
    "# Is he really bad turker or should we grace him (look at other sample responses)?\n",
    "# grep -A1 A33XZFIZU249JA /Users/nikett/quick/sciencesrl-annotation-afresh/results/batch_v5_3__round2.tsv | cut -f3,6-| less\n",
    "# -notsure: 1543 A22502C5A6AFCX\n",
    "# +spammer: 721 A8TIL9U6YHG5\n",
    "# +spammer: 543 A1AXTRCJM88NBE\n",
    "# Then, reject his assignments\n",
    "# grep \"A33XZFIZU24\" /Users/nikett/quick/sciencesrl-annotation-afresh/results/batch_v5_3__round2.tsv | cut -f1 | sort -u > /Users/nikett/quick/sciencesrl-annotation-afresh/turker-intermediate/assignments_to_reject_batch_v5_3__round2.txt\n",
    "\n",
    "def ban_bad_workers(mturk_connection, worker_ids):\n",
    "    for worker in worker_ids:\n",
    "        reason_for_block = \"\"\"\n",
    "        Your HITs contained many sentences with action verbs, but they were marked 'no action verbs'\n",
    "        \"\"\"\n",
    "        print('blocking ' + str(worker))\n",
    "        mturk_connection.block_worker(worker, reason_for_block)"
   ]
  },
  {
   "cell_type": "code",
   "execution_count": null,
   "metadata": {
    "collapsed": true,
    "hidden": true,
    "run_control": {
     "frozen": false,
     "read_only": false
    }
   },
   "outputs": [],
   "source": [
    "workers_to_ban = unpickle_this('workers_to_ban_prod_1_4.pkl')"
   ]
  },
  {
   "cell_type": "code",
   "execution_count": null,
   "metadata": {
    "collapsed": false,
    "hidden": true,
    "run_control": {
     "frozen": false,
     "read_only": false
    }
   },
   "outputs": [],
   "source": [
    "ban_bad_workers(amt_con.connection, list(workers_to_ban))"
   ]
  },
  {
   "cell_type": "code",
   "execution_count": null,
   "metadata": {
    "collapsed": true,
    "hidden": true,
    "run_control": {
     "frozen": false,
     "read_only": false
    }
   },
   "outputs": [],
   "source": [
    "to_reject = unpickle_this('assignments_to_reject_prod_1_4.pkl')"
   ]
  },
  {
   "cell_type": "code",
   "execution_count": null,
   "metadata": {
    "collapsed": true,
    "hidden": true,
    "run_control": {
     "frozen": false,
     "read_only": false
    }
   },
   "outputs": [],
   "source": [
    "def reject_assignments(mturk_connection, assignments_to_reject):\n",
    "    feedback_message = \"\"\"\n",
    "    Your HITs contained many frames with valid action questions, but they were all marked empty\n",
    "    \"\"\"\n",
    "    reject_count = len(assignments_to_reject)\n",
    "    for assignment_id in tqdm(assignments_to_reject):\n",
    "        try:\n",
    "            mturk_connection.reject_assignment(assignment_id, feedback_message)\n",
    "        except boto.mturk.connection.MTurkRequestError:\n",
    "            print('assignment ' + str(assignment_id) + ' already accepted or rejected')\n",
    "\n",
    "    return reject_count"
   ]
  },
  {
   "cell_type": "code",
   "execution_count": 48,
   "metadata": {
    "collapsed": false,
    "hidden": true,
    "run_control": {
     "frozen": false,
     "read_only": false
    }
   },
   "outputs": [
    {
     "name": "stderr",
     "output_type": "stream",
     "text": [
      "\r",
      "0it [00:00, ?it/s]"
     ]
    },
    {
     "name": "stdout",
     "output_type": "stream",
     "text": [
      "Rejecting assignments ... /Users/nikett/quick/sciencesrl-annotation-afresh/results/batch_v5_3__round3/rejects.tsv\n"
     ]
    },
    {
     "name": "stderr",
     "output_type": "stream",
     "text": [
      "1092it [02:39,  7.36it/s]"
     ]
    },
    {
     "name": "stdout",
     "output_type": "stream",
     "text": [
      "0 exceptions\n"
     ]
    },
    {
     "name": "stderr",
     "output_type": "stream",
     "text": [
      "\n"
     ]
    }
   ],
   "source": [
    "# reject_assignments(amt_con.connection, list(to_reject))\n",
    "# file_to_reject_assignments = '/Users/nikett/quick/sciencesrl-annotation-afresh/turker-intermediate/assignments_to_reject_8k_batchv2.txt'\n",
    "# file_to_reject_assignments = '/Users/nikett/quick/sciencesrl-annotation-afresh/turker-intermediate/assignments_to_reject_batch_v5_3.txt'\n",
    "# file_to_reject_assignments = '/Users/nikett/quick/sciencesrl-annotation-afresh/turker-intermediate/first_8k/first_8k_rejected_assignments.txt'\n",
    "# file_to_reject_assignments = '/Users/nikett/quick/sciencesrl-annotation-afresh/turker-intermediate/assignments_to_reject_batch_v5_3__round2.txt'\n",
    "file_to_reject_assignments = '/Users/nikett/quick/sciencesrl-annotation-afresh/results/batch_v5_3__round3/rejects.tsv'\n",
    "print \"Rejecting assignments ...\", file_to_reject_assignments\n",
    "e_count = 0\n",
    "\n",
    "with open(file_to_reject_assignments) as f:\n",
    "    for a in tqdm(f):\n",
    "        try:\n",
    "            #print \"Rejecting assignment\", a\n",
    "            amt_con.connection.reject_assignment(a)\n",
    "        except boto.mturk.connection.MTurkRequestError as e:\n",
    "            print e\n",
    "            e_count += 1\n",
    "print str(e_count) + \" exceptions\""
   ]
  },
  {
   "cell_type": "code",
   "execution_count": null,
   "metadata": {
    "collapsed": true,
    "hidden": true,
    "run_control": {
     "frozen": false,
     "read_only": false
    }
   },
   "outputs": [],
   "source": [
    "def pay_bonuses(bonuses_to_pay):\n",
    "    total_payed = 0\n",
    "    bonus_reason_template = 'For Flinstones character labels written.'\n",
    "    for aid, vals in tqdm(bonuses_to_pay.items()):\n",
    "        n_chars = vals['count']\n",
    "        wid = vals['worker_id']\n",
    "        bonus_ammount = boto.mturk.price.Price(0.01 * n_chars)\n",
    "        total_payed += bonus_ammount.amount\n",
    "        bonus_reason = bonus_reason_template\n",
    "        amt_con.connection.grant_bonus(wid, aid, bonus_ammount, bonus_reason)\n",
    "    return total_payed"
   ]
  },
  {
   "cell_type": "code",
   "execution_count": null,
   "metadata": {
    "collapsed": true,
    "hidden": true,
    "run_control": {
     "frozen": false,
     "read_only": false
    }
   },
   "outputs": [],
   "source": [
    "# bonuses = unpickle_this('bonuses_to_pay_3.pkl')"
   ]
  },
  {
   "cell_type": "code",
   "execution_count": null,
   "metadata": {
    "collapsed": true,
    "hidden": true,
    "run_control": {
     "frozen": false,
     "read_only": false
    },
    "scrolled": true
   },
   "outputs": [],
   "source": [
    "# pay_bonuses(bonuses)"
   ]
  },
  {
   "cell_type": "markdown",
   "metadata": {
    "heading_collapsed": true
   },
   "source": [
    "# Accepting and deleting HITs"
   ]
  },
  {
   "cell_type": "markdown",
   "metadata": {
    "hidden": true
   },
   "source": [
    "Uncomment only when ready to accept or delete hits"
   ]
  },
  {
   "cell_type": "markdown",
   "metadata": {
    "hidden": true
   },
   "source": [
    "reject assignments carefully"
   ]
  },
  {
   "cell_type": "code",
   "execution_count": null,
   "metadata": {
    "collapsed": false,
    "hidden": true,
    "run_control": {
     "frozen": false,
     "read_only": false
    }
   },
   "outputs": [],
   "source": [
    "from mturk_utils.annotation_collection import un_pickle_this\n",
    "accept_results = un_pickle_this(outfile)"
   ]
  },
  {
   "cell_type": "code",
   "execution_count": null,
   "metadata": {
    "collapsed": false,
    "hidden": true,
    "run_control": {
     "frozen": false,
     "read_only": false
    }
   },
   "outputs": [],
   "source": [
    "e_count = 0\n",
    "print \"Approving \", len(accept_results), \"assignments ...\"\n",
    "for assignment_threeturkers in tqdm(accept_results):\n",
    "    try:\n",
    "        for a in accept_results[assignment_threeturkers]:\n",
    "            amt_con.approve_assignment(assignment=a)\n",
    "    except boto.mturk.connection.MTurkRequestError as e:\n",
    "        print e\n",
    "        e_count += 1\n",
    "print str(e_count) + \" exceptions\""
   ]
  },
  {
   "cell_type": "markdown",
   "metadata": {
    "hidden": true
   },
   "source": [
    "disable hits"
   ]
  },
  {
   "cell_type": "code",
   "execution_count": null,
   "metadata": {
    "collapsed": true,
    "hidden": true,
    "run_control": {
     "frozen": false,
     "read_only": false
    }
   },
   "outputs": [],
   "source": [
    "# _ = [amt_con.disable_hit(hit) for hit in tqdm(all_hits)]\n",
    "\n",
    "hit_id = \"36GJS3V78VQDPQD80WH8APBE2DFGJF\"\n",
    "result = amt_con.connection.get_assignments(hit_id)\n",
    "\n",
    "assignment = result[0]\n",
    "worker_id = assignment.WorkerId\n",
    "for answer in assignment.answers[0]:\n",
    "    # TODO change this.\n",
    "  if answer.qid == 'answer':\n",
    "    worker_answer = answer.fields[0]\n",
    "\n",
    "print \"The Worker with ID {} and gave the answer {}\".format(worker_id, worker_answer)"
   ]
  },
  {
   "cell_type": "markdown",
   "metadata": {
    "hidden": true
   },
   "source": [
    "deletes hits"
   ]
  },
  {
   "cell_type": "code",
   "execution_count": null,
   "metadata": {
    "collapsed": false,
    "hidden": true,
    "run_control": {
     "frozen": false,
     "read_only": false
    }
   },
   "outputs": [],
   "source": [
    "if sandbox:\n",
    "    print \"Deleting\", len(amt_con.get_all_hits()), \" HITs...\"\n",
    "    amt_con.delete_all_hits()\n",
    "    print \"Done deleting.\""
   ]
  },
  {
   "cell_type": "code",
   "execution_count": 51,
   "metadata": {
    "collapsed": false
   },
   "outputs": [
    {
     "name": "stderr",
     "output_type": "stream",
     "text": [
      "188it [01:01,  4.55it/s]"
     ]
    },
    {
     "name": "stdout",
     "output_type": "stream",
     "text": [
      "0 exceptions\n"
     ]
    },
    {
     "name": "stderr",
     "output_type": "stream",
     "text": [
      "\n"
     ]
    }
   ],
   "source": [
    "# approve rejected assignments.\n",
    "re_count = 0\n",
    "file_to_reaccept_assignments ='/Users/nikett/quick/sciencesrl-annotation-afresh/results/batch_v5_3__round3/reject_accepted_mercy.tsv'\n",
    "\n",
    "with open(file_to_reaccept_assignments) as f:\n",
    "    for a in tqdm(f):\n",
    "        try:\n",
    "            amt_con.connection.approve_rejected_assignment(a)\n",
    "        except boto.mturk.connection.MTurkRequestError as e:\n",
    "            re_count += 1\n",
    "print str(re_count) + \" exceptions\""
   ]
  },
  {
   "cell_type": "code",
   "execution_count": 49,
   "metadata": {
    "collapsed": false
   },
   "outputs": [
    {
     "name": "stderr",
     "output_type": "stream",
     "text": [
      "1it [00:00,  7.37it/s]"
     ]
    },
    {
     "name": "stdout",
     "output_type": "stream",
     "text": [
      "Approving assignments ... /Users/nikett/quick/sciencesrl-annotation-afresh/results/batch_v5_3__round3/accepts.tsv\n"
     ]
    },
    {
     "name": "stderr",
     "output_type": "stream",
     "text": [
      "3589it [11:34,  6.58it/s]"
     ]
    },
    {
     "name": "stdout",
     "output_type": "stream",
     "text": [
      "1 exceptions\n"
     ]
    },
    {
     "name": "stderr",
     "output_type": "stream",
     "text": [
      "\n"
     ]
    }
   ],
   "source": [
    "e_count = 0\n",
    "\n",
    "# file_to_accept_assignments = '/Users/nikett/quick/sciencesrl-annotation-afresh/turker-intermediate/assignments_to_accept_8k_batchv2.txt'\n",
    "#file_to_accept_assignments ='/Users/nikett/quick/sciencesrl-annotation-afresh/turker-intermediate/assignments_to_accept_batch_v5_3.txt'\n",
    "# file_to_accept_assignments ='/Users/nikett/quick/sciencesrl-annotation-afresh/turker-intermediate/first_8k/first_8k_accepted_assignments.txt'\n",
    "# file_to_accept_assignments ='/Users/nikett/quick/sciencesrl-annotation-afresh/turker-intermediate/assignments_to_accept_batch_v5_3__round2.txt'\n",
    "file_to_accept_assignments ='/Users/nikett/quick/sciencesrl-annotation-afresh/results/batch_v5_3__round3/accepts.tsv'\n",
    "print \"Approving assignments ...\", file_to_accept_assignments\n",
    "\n",
    "with open(file_to_accept_assignments) as f:\n",
    "    for a in tqdm(f):\n",
    "        try:\n",
    "            #print \"Acceping assignment\", a\n",
    "            amt_con.connection.approve_assignment(a)\n",
    "        except boto.mturk.connection.MTurkRequestError as e:\n",
    "#             print e\n",
    "            e_count += 1\n",
    "print str(e_count) + \" exceptions\""
   ]
  },
  {
   "cell_type": "code",
   "execution_count": null,
   "metadata": {
    "collapsed": true
   },
   "outputs": [],
   "source": []
  }
 ],
 "metadata": {
  "anaconda-cloud": {},
  "kernelspec": {
   "display_name": "Python 2",
   "language": "python",
   "name": "python2"
  },
  "language_info": {
   "codemirror_mode": {
    "name": "ipython",
    "version": 2
   },
   "file_extension": ".py",
   "mimetype": "text/x-python",
   "name": "python",
   "nbconvert_exporter": "python",
   "pygments_lexer": "ipython2",
   "version": "2.7.13"
  }
 },
 "nbformat": 4,
 "nbformat_minor": 0
}
