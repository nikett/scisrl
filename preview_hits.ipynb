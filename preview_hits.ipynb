{
 "cells": [
  {
   "cell_type": "code",
   "execution_count": 3,
   "metadata": {
    "run_control": {
     "frozen": false,
     "read_only": false
    }
   },
   "outputs": [
    {
     "name": "stdout",
     "output_type": "stream",
     "text": [
      "   sentid                                               sent      verbids\n",
      "0       1  During a physical change , the arrangement of ...  10-11,23-24\n",
      "1       2       Plants transport water from roots to leaves.          1-2\n",
      "2       3                 Light and water mix to form sugar.          2-3\n",
      "Wrote HIT for sentence 1 to ./rendered_html/task_1.html\n",
      "Wrote HIT for sentence 2 to ./rendered_html/task_2.html\n",
      "Wrote HIT for sentence 3 to ./rendered_html/task_3.html\n"
     ]
    }
   ],
   "source": [
    "import pandas as pd\n",
    "from mturk_utils.annotation_collection import generate_task_page\n",
    "\n",
    "sent_file = \"./example_sentences.tsv\"\n",
    "df = pd.read_csv(sent_file, sep='\\t', header=0)\n",
    "\n",
    "print(df)\n",
    "\n",
    "def remove_non_ascii(s):\n",
    "    return \"\".join(i for i in s if ord(i)<128)\n",
    "\n",
    "def parse_verb_ids(s):\n",
    "    return [[int(index) for index in span.split('-')] for span in s.split(',')]\n",
    "\n",
    "for index, row in df.iterrows():\n",
    "    html = generate_task_page(\n",
    "        row.sentid,\n",
    "        remove_non_ascii(row.sent).split(' '),\n",
    "        parse_verb_ids(row.verbids)\n",
    "    )\n",
    "    \n",
    "    path = './rendered_html/task_%d.html' % (row.sentid,)\n",
    "    with open(path, 'w') as f:\n",
    "        f.write(html)\n",
    "        print('Wrote HIT for sentence %d to %s' % (row.sentid, path,))\n"
   ]
  },
  {
   "cell_type": "code",
   "execution_count": null,
   "metadata": {},
   "outputs": [],
   "source": []
  },
  {
   "cell_type": "code",
   "execution_count": null,
   "metadata": {},
   "outputs": [],
   "source": []
  }
 ],
 "metadata": {
  "anaconda-cloud": {},
  "kernelspec": {
   "display_name": "Python 3",
   "language": "python",
   "name": "python3"
  },
  "language_info": {
   "codemirror_mode": {
    "name": "ipython",
    "version": 3
   },
   "file_extension": ".py",
   "mimetype": "text/x-python",
   "name": "python",
   "nbconvert_exporter": "python",
   "pygments_lexer": "ipython3",
   "version": "3.6.3"
  }
 },
 "nbformat": 4,
 "nbformat_minor": 1
}
